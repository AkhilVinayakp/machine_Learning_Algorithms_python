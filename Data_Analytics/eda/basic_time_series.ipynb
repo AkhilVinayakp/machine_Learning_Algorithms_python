{
 "cells": [
  {
   "cell_type": "code",
   "execution_count": 1,
   "metadata": {},
   "outputs": [],
   "source": [
    "import pandas as pd"
   ]
  },
  {
   "cell_type": "code",
   "execution_count": 2,
   "metadata": {},
   "outputs": [],
   "source": [
    "# path of the dataset. \"F:\\dataset\\Metro_sales_count_now_uc_sfrcondo_month.csv\"\n",
    "df = pd.read_csv(\"F:\\dataset\\Metro_sales_count_now_uc_sfrcondo_month.csv\")"
   ]
  },
  {
   "cell_type": "code",
   "execution_count": 3,
   "metadata": {},
   "outputs": [
    {
     "name": "stdout",
     "output_type": "stream",
     "text": [
      "<class 'pandas.core.frame.DataFrame'>\n",
      "RangeIndex: 94 entries, 0 to 93\n",
      "Columns: 202 entries, RegionID to 2024-06-30\n",
      "dtypes: float64(197), int64(2), object(3)\n",
      "memory usage: 148.5+ KB\n"
     ]
    }
   ],
   "source": [
    "df.info()"
   ]
  },
  {
   "cell_type": "code",
   "execution_count": 8,
   "metadata": {},
   "outputs": [
    {
     "data": {
      "text/html": [
       "<div>\n",
       "<style scoped>\n",
       "    .dataframe tbody tr th:only-of-type {\n",
       "        vertical-align: middle;\n",
       "    }\n",
       "\n",
       "    .dataframe tbody tr th {\n",
       "        vertical-align: top;\n",
       "    }\n",
       "\n",
       "    .dataframe thead th {\n",
       "        text-align: right;\n",
       "    }\n",
       "</style>\n",
       "<table border=\"1\" class=\"dataframe\">\n",
       "  <thead>\n",
       "    <tr style=\"text-align: right;\">\n",
       "      <th></th>\n",
       "      <th>RegionID</th>\n",
       "      <th>SizeRank</th>\n",
       "      <th>RegionName</th>\n",
       "      <th>RegionType</th>\n",
       "      <th>StateName</th>\n",
       "      <th>2008-02-29</th>\n",
       "      <th>2008-03-31</th>\n",
       "      <th>2008-04-30</th>\n",
       "      <th>2008-05-31</th>\n",
       "      <th>2008-06-30</th>\n",
       "      <th>...</th>\n",
       "      <th>2023-09-30</th>\n",
       "      <th>2023-10-31</th>\n",
       "      <th>2023-11-30</th>\n",
       "      <th>2023-12-31</th>\n",
       "      <th>2024-01-31</th>\n",
       "      <th>2024-02-29</th>\n",
       "      <th>2024-03-31</th>\n",
       "      <th>2024-04-30</th>\n",
       "      <th>2024-05-31</th>\n",
       "      <th>2024-06-30</th>\n",
       "    </tr>\n",
       "  </thead>\n",
       "  <tbody>\n",
       "    <tr>\n",
       "      <th>0</th>\n",
       "      <td>102001</td>\n",
       "      <td>0</td>\n",
       "      <td>United States</td>\n",
       "      <td>country</td>\n",
       "      <td>NaN</td>\n",
       "      <td>202625.0</td>\n",
       "      <td>234900.0</td>\n",
       "      <td>260858.0</td>\n",
       "      <td>287355.0</td>\n",
       "      <td>300727.0</td>\n",
       "      <td>...</td>\n",
       "      <td>310207.0</td>\n",
       "      <td>298123.0</td>\n",
       "      <td>260575.0</td>\n",
       "      <td>248819.0</td>\n",
       "      <td>213559.0</td>\n",
       "      <td>235987.0</td>\n",
       "      <td>284539.0</td>\n",
       "      <td>320104.0</td>\n",
       "      <td>351336.0</td>\n",
       "      <td>323206.0</td>\n",
       "    </tr>\n",
       "    <tr>\n",
       "      <th>1</th>\n",
       "      <td>394913</td>\n",
       "      <td>1</td>\n",
       "      <td>New York, NY</td>\n",
       "      <td>msa</td>\n",
       "      <td>NY</td>\n",
       "      <td>8467.0</td>\n",
       "      <td>8929.0</td>\n",
       "      <td>9863.0</td>\n",
       "      <td>10155.0</td>\n",
       "      <td>10755.0</td>\n",
       "      <td>...</td>\n",
       "      <td>13318.0</td>\n",
       "      <td>13150.0</td>\n",
       "      <td>11371.0</td>\n",
       "      <td>10911.0</td>\n",
       "      <td>10585.0</td>\n",
       "      <td>9131.0</td>\n",
       "      <td>10278.0</td>\n",
       "      <td>11205.0</td>\n",
       "      <td>12473.0</td>\n",
       "      <td>12323.0</td>\n",
       "    </tr>\n",
       "    <tr>\n",
       "      <th>2</th>\n",
       "      <td>753899</td>\n",
       "      <td>2</td>\n",
       "      <td>Los Angeles, CA</td>\n",
       "      <td>msa</td>\n",
       "      <td>CA</td>\n",
       "      <td>4148.0</td>\n",
       "      <td>5049.0</td>\n",
       "      <td>6072.0</td>\n",
       "      <td>6880.0</td>\n",
       "      <td>7234.0</td>\n",
       "      <td>...</td>\n",
       "      <td>5746.0</td>\n",
       "      <td>5788.0</td>\n",
       "      <td>5125.0</td>\n",
       "      <td>4987.0</td>\n",
       "      <td>4407.0</td>\n",
       "      <td>4984.0</td>\n",
       "      <td>6115.0</td>\n",
       "      <td>6714.0</td>\n",
       "      <td>7131.0</td>\n",
       "      <td>6473.0</td>\n",
       "    </tr>\n",
       "    <tr>\n",
       "      <th>3</th>\n",
       "      <td>394463</td>\n",
       "      <td>3</td>\n",
       "      <td>Chicago, IL</td>\n",
       "      <td>msa</td>\n",
       "      <td>IL</td>\n",
       "      <td>5746.0</td>\n",
       "      <td>7212.0</td>\n",
       "      <td>7448.0</td>\n",
       "      <td>8153.0</td>\n",
       "      <td>9030.0</td>\n",
       "      <td>...</td>\n",
       "      <td>8783.0</td>\n",
       "      <td>8399.0</td>\n",
       "      <td>7068.0</td>\n",
       "      <td>7191.0</td>\n",
       "      <td>5536.0</td>\n",
       "      <td>5784.0</td>\n",
       "      <td>7720.0</td>\n",
       "      <td>9318.0</td>\n",
       "      <td>10302.0</td>\n",
       "      <td>10243.0</td>\n",
       "    </tr>\n",
       "  </tbody>\n",
       "</table>\n",
       "<p>4 rows × 202 columns</p>\n",
       "</div>"
      ],
      "text/plain": [
       "   RegionID  SizeRank       RegionName RegionType StateName  2008-02-29   \n",
       "0    102001         0    United States    country       NaN    202625.0  \\\n",
       "1    394913         1     New York, NY        msa        NY      8467.0   \n",
       "2    753899         2  Los Angeles, CA        msa        CA      4148.0   \n",
       "3    394463         3      Chicago, IL        msa        IL      5746.0   \n",
       "\n",
       "   2008-03-31  2008-04-30  2008-05-31  2008-06-30  ...  2023-09-30   \n",
       "0    234900.0    260858.0    287355.0    300727.0  ...    310207.0  \\\n",
       "1      8929.0      9863.0     10155.0     10755.0  ...     13318.0   \n",
       "2      5049.0      6072.0      6880.0      7234.0  ...      5746.0   \n",
       "3      7212.0      7448.0      8153.0      9030.0  ...      8783.0   \n",
       "\n",
       "   2023-10-31  2023-11-30  2023-12-31  2024-01-31  2024-02-29  2024-03-31   \n",
       "0    298123.0    260575.0    248819.0    213559.0    235987.0    284539.0  \\\n",
       "1     13150.0     11371.0     10911.0     10585.0      9131.0     10278.0   \n",
       "2      5788.0      5125.0      4987.0      4407.0      4984.0      6115.0   \n",
       "3      8399.0      7068.0      7191.0      5536.0      5784.0      7720.0   \n",
       "\n",
       "   2024-04-30  2024-05-31  2024-06-30  \n",
       "0    320104.0    351336.0    323206.0  \n",
       "1     11205.0     12473.0     12323.0  \n",
       "2      6714.0      7131.0      6473.0  \n",
       "3      9318.0     10302.0     10243.0  \n",
       "\n",
       "[4 rows x 202 columns]"
      ]
     },
     "execution_count": 8,
     "metadata": {},
     "output_type": "execute_result"
    }
   ],
   "source": [
    "df.head(4)"
   ]
  },
  {
   "cell_type": "code",
   "execution_count": 16,
   "metadata": {},
   "outputs": [],
   "source": [
    "null_list = df.isnull().sum()\n",
    "\n"
   ]
  },
  {
   "cell_type": "code",
   "execution_count": 19,
   "metadata": {},
   "outputs": [
    {
     "data": {
      "text/plain": [
       "StateName     1\n",
       "2010-05-31    1\n",
       "2010-09-30    1\n",
       "2020-06-30    1\n",
       "2022-11-30    1\n",
       "2023-07-31    1\n",
       "2023-08-31    1\n",
       "2023-09-30    1\n",
       "2023-10-31    1\n",
       "dtype: int64"
      ]
     },
     "execution_count": 19,
     "metadata": {},
     "output_type": "execute_result"
    }
   ],
   "source": [
    "null_list[null_list > 0]"
   ]
  },
  {
   "cell_type": "code",
   "execution_count": 20,
   "metadata": {},
   "outputs": [],
   "source": [
    "# TODO: what action would we take here."
   ]
  },
  {
   "cell_type": "code",
   "execution_count": 21,
   "metadata": {},
   "outputs": [],
   "source": [
    "# checking duplicated values present or not."
   ]
  },
  {
   "cell_type": "code",
   "execution_count": 22,
   "metadata": {},
   "outputs": [
    {
     "data": {
      "text/plain": [
       "0"
      ]
     },
     "execution_count": 22,
     "metadata": {},
     "output_type": "execute_result"
    }
   ],
   "source": [
    "df.duplicated().sum()"
   ]
  },
  {
   "cell_type": "code",
   "execution_count": 23,
   "metadata": {},
   "outputs": [],
   "source": [
    "# we do not have any duplicates found as well."
   ]
  },
  {
   "cell_type": "code",
   "execution_count": null,
   "metadata": {},
   "outputs": [],
   "source": []
  }
 ],
 "metadata": {
  "kernelspec": {
   "display_name": "Python 3",
   "language": "python",
   "name": "python3"
  },
  "language_info": {
   "codemirror_mode": {
    "name": "ipython",
    "version": 3
   },
   "file_extension": ".py",
   "mimetype": "text/x-python",
   "name": "python",
   "nbconvert_exporter": "python",
   "pygments_lexer": "ipython3",
   "version": "3.10.0"
  }
 },
 "nbformat": 4,
 "nbformat_minor": 2
}
