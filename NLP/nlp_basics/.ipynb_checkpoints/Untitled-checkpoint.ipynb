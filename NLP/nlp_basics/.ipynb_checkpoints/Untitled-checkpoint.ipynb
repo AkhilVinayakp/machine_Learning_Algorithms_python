{
 "cells": [
  {
   "cell_type": "code",
   "execution_count": 1,
   "id": "1b136843-51d4-4742-a03d-a9f8eaf30600",
   "metadata": {},
   "outputs": [
    {
     "name": "stdout",
     "output_type": "stream",
     "text": [
      "Document 1:\n",
      "  cat: 0.9487\n",
      "  dog: 0.3162\n",
      "  mouse: 0.0000\n",
      "Document 2:\n",
      "  cat: 0.0000\n",
      "  dog: 0.8944\n",
      "  mouse: 0.4472\n",
      "Document 3:\n",
      "  cat: 0.8944\n",
      "  dog: 0.0000\n",
      "  mouse: 0.4472\n"
     ]
    }
   ],
   "source": [
    "import numpy as np\n",
    "from sklearn.feature_extraction.text import TfidfVectorizer\n",
    "\n",
    "def compute_tfidf(corpus):\n",
    "    vectorizer = TfidfVectorizer()\n",
    "    tfidf_matrix = vectorizer.fit_transform(corpus)\n",
    "    feature_names = vectorizer.get_feature_names_out()\n",
    "    \n",
    "    return tfidf_matrix.toarray(), feature_names\n",
    "\n",
    "# Example corpus\n",
    "documents = [\n",
    "    \"cat dog cat cat\",\n",
    "    \"dog mouse dog\",\n",
    "    \"cat mouse cat\"\n",
    "]\n",
    "\n",
    "# Compute TF-IDF\n",
    "tfidf_values, words = compute_tfidf(documents)\n",
    "\n",
    "# Display results\n",
    "for i, doc_tfidf in enumerate(tfidf_values):\n",
    "    print(f\"Document {i+1}:\")\n",
    "    for word, score in zip(words, doc_tfidf):\n",
    "        print(f\"  {word}: {score:.4f}\")"
   ]
  },
  {
   "cell_type": "code",
   "execution_count": 2,
   "id": "e692950f-8439-4242-9e46-99628f79274a",
   "metadata": {},
   "outputs": [],
   "source": [
    "# TF-IDF will be higher for the tokens having high count in a document as compared to the corpus"
   ]
  },
  {
   "cell_type": "code",
   "execution_count": null,
   "id": "938540fa-9bf2-41a6-bb4e-d729183032f5",
   "metadata": {},
   "outputs": [],
   "source": []
  }
 ],
 "metadata": {
  "kernelspec": {
   "display_name": "nlp_venv",
   "language": "python",
   "name": "nlp_venv"
  },
  "language_info": {
   "codemirror_mode": {
    "name": "ipython",
    "version": 3
   },
   "file_extension": ".py",
   "mimetype": "text/x-python",
   "name": "python",
   "nbconvert_exporter": "python",
   "pygments_lexer": "ipython3",
   "version": "3.12.6"
  }
 },
 "nbformat": 4,
 "nbformat_minor": 5
}
