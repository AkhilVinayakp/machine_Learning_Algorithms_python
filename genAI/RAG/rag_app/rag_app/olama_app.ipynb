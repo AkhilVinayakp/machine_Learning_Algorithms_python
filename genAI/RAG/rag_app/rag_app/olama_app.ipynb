{
 "cells": [
  {
   "cell_type": "markdown",
   "metadata": {},
   "source": [
    "# Indexing the new document."
   ]
  },
  {
   "cell_type": "markdown",
   "metadata": {},
   "source": [
    "\n",
    "- document is stored in the data folder\n",
    "    1. Load the document \n",
    "    2. create embedding\n",
    "    3. push to chroma db.\n"
   ]
  },
  {
   "cell_type": "code",
   "execution_count": 6,
   "metadata": {},
   "outputs": [],
   "source": [
    "from langchain.document_loaders.pdf import PyPDFDirectoryLoader\n",
    "from langchain_text_splitters import RecursiveCharacterTextSplitter\n",
    "from langchain.schema.document import Document\n",
    "from langchain.vectorstores.chroma import Chroma"
   ]
  },
  {
   "cell_type": "code",
   "execution_count": 7,
   "metadata": {},
   "outputs": [],
   "source": [
    "# loading the document.\n",
    "pdf_loader_from_path = PyPDFDirectoryLoader(\"data\")"
   ]
  },
  {
   "cell_type": "code",
   "execution_count": 8,
   "metadata": {},
   "outputs": [],
   "source": [
    "loaded_pdf = pdf_loader_from_path.load()"
   ]
  },
  {
   "cell_type": "code",
   "execution_count": 9,
   "metadata": {},
   "outputs": [
    {
     "data": {
      "text/plain": [
       "[Document(metadata={'source': 'data\\\\ETS2_manual_en.pdf', 'page': 0}, page_content='MANUAL'),\n",
       " Document(metadata={'source': 'data\\\\ETS2_manual_en.pdf', 'page': 1}, page_content=''),\n",
       " Document(metadata={'source': 'data\\\\ETS2_manual_en.pdf', 'page': 2}, page_content='Welcome to Euro Truck Simulator 2\\nThe Euro Truck Simulator 2 lets you experience the thrill of commanding the \\nmost powerful machines that cruise the motorways. You will start as an enthu -\\nsiast trucker for hire and will get the chance to build your own transportation empire spanning across the whole Europe. Configure your trucks from scratch, \\nbuy as many as you can afford, explore every road and acquire a garage in ev -\\nery city - these are just a few of the challenges that await. Godspeed, driver!  \\nGetting Started\\nSystem requirements\\nMinimum System Requirements:\\n Operating system: Windows XP/Vista/7\\n Processor Dual core CPU 2.4 GHz\\n 2 GB system memory\\n Dedicated graphics card with 256 MB memory (GeForce 7600 GT- \\n               class\\n equivalent or better)\\n DirectX 9 compatible sound card\\n DirectX 9.0\\n 1.5 GB of free hard drive space\\nRecommended System Requirements:\\n Dual core CPU 3.0 GHz\\n 4 GB system memory\\n Dedicated graphics card with 1024 MB memory (GeForce GTS  \\n 450-class\\n equivalent or better)\\nInstallation \\nTo install Euro Truck Simulator 2 insert the game DVD into your DVD-ROM \\ndrive. Follow the on-screen instructions to complete the set-up process. If in-\\nstallation fails to start automatically, proceed by following these steps: \\n1.   Open My Computer \\n2.   Select and open your DVD-ROM drive\\n3.   Find setup.exe and execute it \\n4.   Follow the on-screen instructions to complete the set-up process'),\n",
       " Document(metadata={'source': 'data\\\\ETS2_manual_en.pdf', 'page': 3}, page_content='Launching Euro Truck Simulator 2\\n1. Start by  clicking the “Euro Truck Simulator 2” icon on your desktop, \\nor\\n2. Going to your programs menu and selecting to play Euro Truck Simula-\\ntor 2, the default path should be “Start” -> “All Programs” -> “Euro \\nTruck Simulator 2” -> “Play Euro Truck Simulator 2”. \\nGame Activation\\n1. To unlock the full functionality of the game, you need to activate it by \\nentering the Product Key code supplied along with your copy of the game. Enter the Product Key at the bottom of the screen. No Internet connection is required to activate the game. Note that you can copy & paste the whole Product Key via Windows clipboard. \\n2. Click on the “Activate Game” button \\n3. The game will then ask you whether it should automatically check (via the Internet) for any news and updates. Such news are then displayed each time the game is started. You can alter this setting later in the Gameplay Options screen. \\n'),\n",
       " Document(metadata={'source': 'data\\\\ETS2_manual_en.pdf', 'page': 4}, page_content='Creating a Profile\\nTo play Euro Truck Simulator 2 you have to create a profile - a virtual person \\nthat will represent you in the game. \\nChoose your name, gender, picture, preferred truck design, a logo and name for \\nyour company, confirm and start playing. \\nYou can create as many profiles as you want and begin in a different city each \\ntime. This will become especially useful if several people are going to play on the same computer. \\nMain Menu\\nThe main menu of Euro Truck Simulator 2 is a joined hub for common actions, \\nsuch as play, save, load, or quit, and various game features. It is designed to evoke the look of a computer desktop with icons and widgets representing ap-plications that a trucking empire manager will need to use to run their company. Whatever you wish to do in the game, be it managing your company or adjust -\\ning the game settings, it can be reached from here.\\n'),\n",
       " Document(metadata={'source': 'data\\\\ETS2_manual_en.pdf', 'page': 5}, page_content='At first, the menu will look like this (with only a few basic options available): \\nAnd after several jobs it will eventually grow into the full version with a mult -\\ntude of features, which you will get familiar with during your progress:\\n'),\n",
       " Document(metadata={'source': 'data\\\\ETS2_manual_en.pdf', 'page': 6}, page_content='The options will be many, but the key actions you may take here are follow -\\ning: \\nGo into the world (1)\\nBy pressing the “Drive” button you can go straight into the world to drive wher -\\never you please, providing you have a truck or you are on a job. \\nPick a job (2)\\nJob Market lists all available job offers in the area you have already explored. \\nThere are two kinds of jobs - quick and company jobs. The quick ones don’t pay much, but your employer provides for everything. You start with a borrowed truck, already laden, ready to get on the road. In the beginning it will be your \\nonly source of income, until you buy a truck. Once you have your own set of \\nwheels, the company jobs will also open up to you. They offer much better rates, but require more responsibility. You will pay for fuel and repairs and will have to drive to the company depot yourself to pick up the cargo. \\nOf course, moving freely in the world, you can come to any cargo depot and \\ntake what’s available on the spot. However, only using Freight Market and plan-ning ahead will win you the best deals around. \\nSave game (3)\\nNo, it’s not a crucial action anymore. It’s just there for convenience. The game \\nis automatically saved for you often, so you don’t have to do it manually at all. \\nAdjust settings (4)\\nAdjust graphics or audio settings, tweak gameplay preferences, or customize \\ncontrols. \\nSwitch to another profile (5) \\nYou can easily switch to another profile from the Personal widget. This way \\nseveral people can play on the same computer without breaking each other’s progress. \\nQuit game (6)\\nLeave Euro Truck Simulator 2  and return to Windows. '),\n",
       " Document(metadata={'source': 'data\\\\ETS2_manual_en.pdf', 'page': 7}, page_content='Options\\nHere you can adjust the game settings to suit your computer and style of driv -\\ning. Select from the following options... \\nGraphics\\nHere you can change resolution and set your own balance between how the \\ngame looks and how it performs. \\nAudio\\nHere you can adjust the volume of the music and sound effects or reverse \\nstereo. \\nGameplay\\n• Language — Choose the language in which you would like to play the \\ngame.\\n• Transmission type — Set whether you want to shift gears manually, or use \\ngame-assisted automatic shifting. “Simple Automatic” gearbox will let you \\nplay in a simplified mode, when you don’t have to shift gears at all; the \\nbrake will work as the reverse if you’re standing or moving backward. “H-\\nShifter” option will only work with a special controller add-on.\\n• 24-hour clock notation — Choose between 24-hour or 12-hour clock nota -\\ntions. \\n• Use miles — Choose between metric and imperial units. \\n• Fatigue simulation —  You can turn the fatigue simulation off if you prefer \\nto drive without rest.\\n• Tutorial — Unchecking this option will cancel the introductory tutorial, hide \\nhelp tips and unlock all features of the main menu. Use with care as it can -\\nnot be turned back on. \\n• Steering autocenter — Choose whether the front wheels should be auto -\\nmatically re-aligned when steering controls are released. \\n• Online news — Opt for news about game updates on profile selection \\nscreen. \\n• Invert mouse —  Invert vertical mouse axis. '),\n",
       " Document(metadata={'source': 'data\\\\ETS2_manual_en.pdf', 'page': 8}, page_content='Keyboard\\nHere you can reassign the keys. Just click on the action you wish to remap and \\npress the new key (or press Esc to cancel). \\nControlsHere you can set up your game controller. Using a steering wheel or a game -\\npad? You should definitely visit this section before you start driving. \\nThe supported game controllers are:• Keyboard (only)\\n• Keyboard + Mouse• Keyboard + Controller \\nSelect the desired controller combination in the selection box at the top and \\nmake sure to configure your controller properly before playing! \\nControl Keys \\nYou can completely reassign the control keys through “Options” -> “Key-\\nboard” menu.\\nContacts '),\n",
       " Document(metadata={'source': 'data\\\\ETS2_manual_en.pdf', 'page': 9}, page_content='Throttle.......................................\\nBrake / Reverse...........................Steering Left...............................Steering Right.............................Shift Up......................................Shift Down..................................\\nStart / Stop Engine.......................\\nParking Brake..............................Motor Brake.................................Left-Turn Indicator........................Right-Turn Indicator......................Hazard Warning...........................\\nLight Modes (Headlights)...............\\nHorn...........................................Wipers........................................Cruise Control..............................\\n \\nInterior Camera...........................\\nChasing Camera...........................Top-Down Camera........................Roof Camera................................Lean Out Camera.........................Bumper Camera...........................On-Wheel Camera........................Drive-By Camera..........................Next Camera................................\\nShow/Hide On-Screen Side Mirrors\\nToggle Route Advisor Modes........... Route Advisor Mouse Control.........\\nActivate......................................\\nAttach / Detach Trailer..................\\nScreenshot..................................Up \\nDownLeft RightLeft ShiftLeft Ctrl\\nE\\nSpaceB[]F\\nL\\nHPC\\n1\\n23456789\\nF2\\nF3F1\\nEnter\\nT\\nF10W\\nSADRight ShiftRight Ctrl\\n--\\n----------\\n--\\n------\\n--\\n----------------\\n--\\n----\\n--\\n--\\n--Main Vehicle Controls\\nCameras Controls\\nMiscellaneous Controls'),\n",
       " Document(metadata={'source': 'data\\\\ETS2_manual_en.pdf', 'page': 10}, page_content=''),\n",
       " Document(metadata={'source': 'data\\\\ETS2_manual_en.pdf', 'page': 11}, page_content='SCS Software web site:    www.scssoft.com\\nOfficial Euro Truck Simulator 2  website:\\nwww.eurotrucksimulator2.com\\n© 2012 SCS Software. All rights reserved.')]"
      ]
     },
     "execution_count": 9,
     "metadata": {},
     "output_type": "execute_result"
    }
   ],
   "source": [
    "loaded_pdf"
   ]
  },
  {
   "cell_type": "code",
   "execution_count": 10,
   "metadata": {},
   "outputs": [],
   "source": [
    "# document is loaded as pages now we need to further split the pages into chucks to process"
   ]
  },
  {
   "cell_type": "code",
   "execution_count": 11,
   "metadata": {},
   "outputs": [],
   "source": [
    "def split_documents(documents: list[Document]):\n",
    "    text_splitter = RecursiveCharacterTextSplitter(\n",
    "        chunk_size=800,\n",
    "        chunk_overlap=80,\n",
    "        length_function=len,\n",
    "        is_separator_regex=False,\n",
    "    )\n",
    "    return text_splitter.split_documents(documents)"
   ]
  },
  {
   "cell_type": "code",
   "execution_count": 12,
   "metadata": {},
   "outputs": [],
   "source": [
    "chunks = split_documents(loaded_pdf)"
   ]
  },
  {
   "cell_type": "code",
   "execution_count": 17,
   "metadata": {},
   "outputs": [],
   "source": [
    "# embedding\n",
    "from langchain_community.embeddings.ollama import OllamaEmbeddings\n",
    "\n",
    "\n",
    "def get_embedding_function():\n",
    "    embeddings = OllamaEmbeddings(model=\"llama3:8b\")\n",
    "    return embeddings"
   ]
  },
  {
   "cell_type": "code",
   "execution_count": null,
   "metadata": {},
   "outputs": [],
   "source": []
  },
  {
   "cell_type": "code",
   "execution_count": null,
   "metadata": {},
   "outputs": [],
   "source": []
  },
  {
   "cell_type": "code",
   "execution_count": 16,
   "metadata": {},
   "outputs": [],
   "source": [
    "def add_to_chroma(chunks: list[Document]):\n",
    "    # Load the existing database.\n",
    "    db = Chroma(\n",
    "        persist_directory=\"chroma\", embedding_function=get_embedding_function()\n",
    "    )\n",
    "\n",
    "    # Calculate Page IDs.\n",
    "    chunks_with_ids = calculate_chunk_ids(chunks)\n",
    "\n",
    "    # Add or Update the documents.\n",
    "    existing_items = db.get(include=[])  # IDs are always included by default\n",
    "    existing_ids = set(existing_items[\"ids\"])\n",
    "    print(f\"Number of existing documents in DB: {len(existing_ids)}\")\n",
    "\n",
    "    # Only add documents that don't exist in the DB.\n",
    "    new_chunks = []\n",
    "    for chunk in chunks_with_ids:\n",
    "        if chunk.metadata[\"id\"] not in existing_ids:\n",
    "            new_chunks.append(chunk)\n",
    "\n",
    "    if len(new_chunks):\n",
    "        print(f\"👉 Adding new documents: {len(new_chunks)}\")\n",
    "        new_chunk_ids = [chunk.metadata[\"id\"] for chunk in new_chunks]\n",
    "        db.add_documents(new_chunks, ids=new_chunk_ids)\n",
    "        db.persist()\n",
    "    else:\n",
    "        print(\"✅ No new documents to add\")\n",
    "\n",
    "\n",
    "def calculate_chunk_ids(chunks):\n",
    "\n",
    "    # This will create IDs like \"data/monopoly.pdf:6:2\"\n",
    "    # Page Source : Page Number : Chunk Index\n",
    "\n",
    "    last_page_id = None\n",
    "    current_chunk_index = 0\n",
    "\n",
    "    for chunk in chunks:\n",
    "        source = chunk.metadata.get(\"source\")\n",
    "        page = chunk.metadata.get(\"page\")\n",
    "        current_page_id = f\"{source}:{page}\"\n",
    "\n",
    "        # If the page ID is the same as the last one, increment the index.\n",
    "        if current_page_id == last_page_id:\n",
    "            current_chunk_index += 1\n",
    "        else:\n",
    "            current_chunk_index = 0\n",
    "\n",
    "        # Calculate the chunk ID.\n",
    "        chunk_id = f\"{current_page_id}:{current_chunk_index}\"\n",
    "        last_page_id = current_page_id\n",
    "\n",
    "        # Add it to the page meta-data.\n",
    "        chunk.metadata[\"id\"] = chunk_id\n",
    "\n",
    "    return chunks"
   ]
  },
  {
   "cell_type": "code",
   "execution_count": 18,
   "metadata": {},
   "outputs": [
    {
     "name": "stderr",
     "output_type": "stream",
     "text": [
      "c:\\Users\\nirva\\Documents\\GitHub\\machine_Learning_Algorithms_python\\genAI\\RAG\\rag_app\\.venv\\lib\\site-packages\\langchain_core\\_api\\deprecation.py:139: LangChainDeprecationWarning: The class `Chroma` was deprecated in LangChain 0.2.9 and will be removed in 0.4. An updated version of the class exists in the langchain-chroma package and should be used instead. To use it run `pip install -U langchain-chroma` and import as `from langchain_chroma import Chroma`.\n",
      "  warn_deprecated(\n"
     ]
    },
    {
     "name": "stdout",
     "output_type": "stream",
     "text": [
      "Number of existing documents in DB: 0\n",
      "👉 Adding new documents: 18\n"
     ]
    },
    {
     "name": "stderr",
     "output_type": "stream",
     "text": [
      "c:\\Users\\nirva\\Documents\\GitHub\\machine_Learning_Algorithms_python\\genAI\\RAG\\rag_app\\.venv\\lib\\site-packages\\langchain_core\\_api\\deprecation.py:139: LangChainDeprecationWarning: Since Chroma 0.4.x the manual persistence method is no longer supported as docs are automatically persisted.\n",
      "  warn_deprecated(\n"
     ]
    }
   ],
   "source": [
    "add_to_chroma(chunks)"
   ]
  },
  {
   "cell_type": "code",
   "execution_count": 19,
   "metadata": {},
   "outputs": [],
   "source": [
    "CHROMA_PATH = \"chroma\"\n",
    "\n",
    "PROMPT_TEMPLATE = \"\"\"\n",
    "Answer the question based only on the following context:\n",
    "\n",
    "{context}\n",
    "\n",
    "---\n",
    "\n",
    "Answer the question based on the above context: {question}\n",
    "\"\"\""
   ]
  },
  {
   "cell_type": "code",
   "execution_count": 22,
   "metadata": {},
   "outputs": [],
   "source": [
    "from langchain.vectorstores.chroma import Chroma\n",
    "from langchain.prompts import ChatPromptTemplate\n",
    "from langchain_community.llms.ollama import Ollama"
   ]
  },
  {
   "cell_type": "code",
   "execution_count": 23,
   "metadata": {},
   "outputs": [],
   "source": [
    "def query_rag(query_text: str):\n",
    "    # Prepare the DB.\n",
    "    embedding_function = get_embedding_function()\n",
    "    db = Chroma(persist_directory=CHROMA_PATH, embedding_function=embedding_function)\n",
    "\n",
    "    # Search the DB.\n",
    "    results = db.similarity_search_with_score(query_text, k=5)\n",
    "\n",
    "    context_text = \"\\n\\n---\\n\\n\".join([doc.page_content for doc, _score in results])\n",
    "    prompt_template = ChatPromptTemplate.from_template(PROMPT_TEMPLATE)\n",
    "    prompt = prompt_template.format(context=context_text, question=query_text)\n",
    "    # print(prompt)\n",
    "\n",
    "    model = Ollama(model=\"llama3:8b\")\n",
    "    response_text = model.invoke(prompt)\n",
    "\n",
    "    sources = [doc.metadata.get(\"id\", None) for doc, _score in results]\n",
    "    formatted_response = f\"Response: {response_text}\\nSources: {sources}\"\n",
    "    print(formatted_response)\n",
    "    return response_text"
   ]
  },
  {
   "cell_type": "code",
   "execution_count": 24,
   "metadata": {},
   "outputs": [
    {
     "name": "stdout",
     "output_type": "stream",
     "text": [
      "Response: Based on the provided manual, ETS2 refers to \"Euro Truck Simulator 2\", a video game that allows players to create their own profile, play as a truck driver, and navigate through different cities.\n",
      "Sources: ['data\\\\ETS2_manual_en.pdf:0:0', 'data\\\\ETS2_manual_en.pdf:8:0', 'data\\\\ETS2_manual_en.pdf:4:0', 'data\\\\ETS2_manual_en.pdf:6:0', 'data\\\\ETS2_manual_en.pdf:11:0']\n"
     ]
    },
    {
     "data": {
      "text/plain": [
       "'Based on the provided manual, ETS2 refers to \"Euro Truck Simulator 2\", a video game that allows players to create their own profile, play as a truck driver, and navigate through different cities.'"
      ]
     },
     "execution_count": 24,
     "metadata": {},
     "output_type": "execute_result"
    }
   ],
   "source": [
    "query_rag(\"what is ETS2\")"
   ]
  },
  {
   "cell_type": "code",
   "execution_count": 25,
   "metadata": {},
   "outputs": [
    {
     "name": "stdout",
     "output_type": "stream",
     "text": [
      "Response: Unfortunately, there is no mention of a \"fly mode\" in the provided context. The options and menus mentioned are all related to creating profiles, switching between profiles, configuring controls, and quitting the game. There is no reference to flying or any kind of aerial gameplay in Euro Truck Simulator 2 (ETS2).\n",
      "Sources: ['data\\\\ETS2_manual_en.pdf:4:0', 'data\\\\ETS2_manual_en.pdf:11:0', 'data\\\\ETS2_manual_en.pdf:9:2', 'data\\\\ETS2_manual_en.pdf:6:2', 'data\\\\ETS2_manual_en.pdf:8:0']\n"
     ]
    },
    {
     "data": {
      "text/plain": [
       "'Unfortunately, there is no mention of a \"fly mode\" in the provided context. The options and menus mentioned are all related to creating profiles, switching between profiles, configuring controls, and quitting the game. There is no reference to flying or any kind of aerial gameplay in Euro Truck Simulator 2 (ETS2).'"
      ]
     },
     "execution_count": 25,
     "metadata": {},
     "output_type": "execute_result"
    }
   ],
   "source": [
    "query_rag(\"how can I get fly mode in ETS2\")"
   ]
  },
  {
   "cell_type": "code",
   "execution_count": 26,
   "metadata": {},
   "outputs": [
    {
     "name": "stdout",
     "output_type": "stream",
     "text": [
      "Response: The answer cannot be found in the provided context. The text only discusses system requirements, installation process, and activation of Euro Truck Simulator 2 (ETS2), but does not mention how to change time in the game.\n",
      "Sources: ['data\\\\ETS2_manual_en.pdf:11:0', 'data\\\\ETS2_manual_en.pdf:9:2', 'data\\\\ETS2_manual_en.pdf:6:2', 'data\\\\ETS2_manual_en.pdf:2:1', 'data\\\\ETS2_manual_en.pdf:3:1']\n"
     ]
    },
    {
     "data": {
      "text/plain": [
       "'The answer cannot be found in the provided context. The text only discusses system requirements, installation process, and activation of Euro Truck Simulator 2 (ETS2), but does not mention how to change time in the game.'"
      ]
     },
     "execution_count": 26,
     "metadata": {},
     "output_type": "execute_result"
    }
   ],
   "source": [
    "query_rag(\"how to change time in ETS2\")"
   ]
  },
  {
   "cell_type": "code",
   "execution_count": 27,
   "metadata": {},
   "outputs": [
    {
     "name": "stdout",
     "output_type": "stream",
     "text": [
      "Response: Based on the provided manual, to start playing Euro Truck Simulator 2 (ETS2), you can follow these steps:\n",
      "\n",
      "1. Create a profile by choosing your name, gender, picture, preferred truck design, and company logo and name.\n",
      "2. Confirm your profile creation and start playing.\n",
      "\n",
      "Alternatively, you can also go directly into the world by pressing the \"Drive\" button from the Main Menu (option 1). This will allow you to drive wherever you please, providing you have a truck or are on a job.\n",
      "\n",
      "Note that this is assuming you have already installed the game.\n",
      "Sources: ['data\\\\ETS2_manual_en.pdf:0:0', 'data\\\\ETS2_manual_en.pdf:4:0', 'data\\\\ETS2_manual_en.pdf:6:0', 'data\\\\ETS2_manual_en.pdf:8:0', 'data\\\\ETS2_manual_en.pdf:11:0']\n"
     ]
    },
    {
     "data": {
      "text/plain": [
       "'Based on the provided manual, to start playing Euro Truck Simulator 2 (ETS2), you can follow these steps:\\n\\n1. Create a profile by choosing your name, gender, picture, preferred truck design, and company logo and name.\\n2. Confirm your profile creation and start playing.\\n\\nAlternatively, you can also go directly into the world by pressing the \"Drive\" button from the Main Menu (option 1). This will allow you to drive wherever you please, providing you have a truck or are on a job.\\n\\nNote that this is assuming you have already installed the game.'"
      ]
     },
     "execution_count": 27,
     "metadata": {},
     "output_type": "execute_result"
    }
   ],
   "source": [
    "query_rag(\"how do I break in ETS2\")"
   ]
  },
  {
   "cell_type": "code",
   "execution_count": 28,
   "metadata": {},
   "outputs": [
    {
     "name": "stdout",
     "output_type": "stream",
     "text": [
      "Response: Based on the provided manual, there is no specific mention of how to apply the brakes in Euro Truck Simulator 2 (ETS2). The \"Control Keys\" section does exist, but it only provides information on reassigning keys through the \"Options\" -> \"Keyboard\" menu. It doesn't specify which key controls the brakes.\n",
      "\n",
      "If you're looking for information on applying the brakes, I recommend consulting the game's manual or online documentation for more specific guidance.\n",
      "Sources: ['data\\\\ETS2_manual_en.pdf:0:0', 'data\\\\ETS2_manual_en.pdf:4:0', 'data\\\\ETS2_manual_en.pdf:11:0', 'data\\\\ETS2_manual_en.pdf:8:0', 'data\\\\ETS2_manual_en.pdf:9:2']\n"
     ]
    },
    {
     "data": {
      "text/plain": [
       "'Based on the provided manual, there is no specific mention of how to apply the brakes in Euro Truck Simulator 2 (ETS2). The \"Control Keys\" section does exist, but it only provides information on reassigning keys through the \"Options\" -> \"Keyboard\" menu. It doesn\\'t specify which key controls the brakes.\\n\\nIf you\\'re looking for information on applying the brakes, I recommend consulting the game\\'s manual or online documentation for more specific guidance.'"
      ]
     },
     "execution_count": 28,
     "metadata": {},
     "output_type": "execute_result"
    }
   ],
   "source": [
    "query_rag(\"what is the control to apply break in ETS2\")"
   ]
  },
  {
   "cell_type": "code",
   "execution_count": 29,
   "metadata": {},
   "outputs": [
    {
     "name": "stdout",
     "output_type": "stream",
     "text": [
      "Response: Unfortunately, there are no \"Main Vehicle Controls\" described in the provided context. The only controls mentioned are:\n",
      "\n",
      "* Cameras Controls\n",
      "* Miscellaneous Controls\n",
      "\n",
      "No information is given about main vehicle controls or any specific control options for controlling vehicles in Euro Truck Simulator 2.\n",
      "Sources: ['data\\\\ETS2_manual_en.pdf:9:2', 'data\\\\ETS2_manual_en.pdf:11:0', 'data\\\\ETS2_manual_en.pdf:2:1', 'data\\\\ETS2_manual_en.pdf:6:2', 'data\\\\ETS2_manual_en.pdf:3:1']\n"
     ]
    },
    {
     "data": {
      "text/plain": [
       "'Unfortunately, there are no \"Main Vehicle Controls\" described in the provided context. The only controls mentioned are:\\n\\n* Cameras Controls\\n* Miscellaneous Controls\\n\\nNo information is given about main vehicle controls or any specific control options for controlling vehicles in Euro Truck Simulator 2.'"
      ]
     },
     "execution_count": 29,
     "metadata": {},
     "output_type": "execute_result"
    }
   ],
   "source": [
    "query_rag(\"Summerize  Main Vehicle Controls in ETS2\")"
   ]
  },
  {
   "cell_type": "code",
   "execution_count": 30,
   "metadata": {},
   "outputs": [
    {
     "name": "stdout",
     "output_type": "stream",
     "text": [
      "Response: Based on the provided context, there is no specific information about \"Cameras Controls\" in Euro Truck Simulator 2 (ETS2). The context only provides general information about installing and playing the game, as well as some basic controls and features. It does not mention any camera-specific settings or controls.\n",
      "Sources: ['data\\\\ETS2_manual_en.pdf:9:2', 'data\\\\ETS2_manual_en.pdf:11:0', 'data\\\\ETS2_manual_en.pdf:2:1', 'data\\\\ETS2_manual_en.pdf:6:2', 'data\\\\ETS2_manual_en.pdf:3:1']\n"
     ]
    },
    {
     "data": {
      "text/plain": [
       "'Based on the provided context, there is no specific information about \"Cameras Controls\" in Euro Truck Simulator 2 (ETS2). The context only provides general information about installing and playing the game, as well as some basic controls and features. It does not mention any camera-specific settings or controls.'"
      ]
     },
     "execution_count": 30,
     "metadata": {},
     "output_type": "execute_result"
    }
   ],
   "source": [
    "\n",
    "query_rag(\"Summerize  Cameras Controls in ETS2\")"
   ]
  },
  {
   "cell_type": "code",
   "execution_count": 31,
   "metadata": {},
   "outputs": [
    {
     "name": "stdout",
     "output_type": "stream",
     "text": [
      "Response: Based on the provided manual, there is no information about installing Euro Truck Simulator 2 (ETS). The manual appears to be a guide for already installed game settings and controls. To install ETS, you would need to follow the installation instructions provided by the game's developers or publisher, which are not included in this specific manual.\n",
      "Sources: ['data\\\\ETS2_manual_en.pdf:0:0', 'data\\\\ETS2_manual_en.pdf:6:0', 'data\\\\ETS2_manual_en.pdf:8:0', 'data\\\\ETS2_manual_en.pdf:4:0', 'data\\\\ETS2_manual_en.pdf:9:1']\n"
     ]
    },
    {
     "data": {
      "text/plain": [
       "\"Based on the provided manual, there is no information about installing Euro Truck Simulator 2 (ETS). The manual appears to be a guide for already installed game settings and controls. To install ETS, you would need to follow the installation instructions provided by the game's developers or publisher, which are not included in this specific manual.\""
      ]
     },
     "execution_count": 31,
     "metadata": {},
     "output_type": "execute_result"
    }
   ],
   "source": [
    "query_rag(\"how to install ets\")"
   ]
  },
  {
   "cell_type": "code",
   "execution_count": null,
   "metadata": {},
   "outputs": [],
   "source": []
  }
 ],
 "metadata": {
  "kernelspec": {
   "display_name": "rag-app-py3.10",
   "language": "python",
   "name": "rag-app-py3.10"
  },
  "language_info": {
   "codemirror_mode": {
    "name": "ipython",
    "version": 3
   },
   "file_extension": ".py",
   "mimetype": "text/x-python",
   "name": "python",
   "nbconvert_exporter": "python",
   "pygments_lexer": "ipython3",
   "version": "3.10.0"
  }
 },
 "nbformat": 4,
 "nbformat_minor": 2
}
