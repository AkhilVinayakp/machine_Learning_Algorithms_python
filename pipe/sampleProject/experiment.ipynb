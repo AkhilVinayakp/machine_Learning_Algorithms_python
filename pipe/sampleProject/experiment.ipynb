{
 "cells": [
  {
   "cell_type": "code",
   "execution_count": 1,
   "metadata": {},
   "outputs": [],
   "source": [
    "import pandas as pd"
   ]
  },
  {
   "cell_type": "code",
   "execution_count": 2,
   "metadata": {},
   "outputs": [],
   "source": [
    "df = pd.read_csv(\"./dataset.csv\")"
   ]
  },
  {
   "cell_type": "code",
   "execution_count": 3,
   "metadata": {},
   "outputs": [
    {
     "name": "stdout",
     "output_type": "stream",
     "text": [
      "<class 'pandas.core.frame.DataFrame'>\n",
      "RangeIndex: 187 entries, 0 to 186\n",
      "Data columns (total 8 columns):\n",
      " #   Column                                  Non-Null Count  Dtype  \n",
      "---  ------                                  --------------  -----  \n",
      " 0   Manga series                            187 non-null    object \n",
      " 1   Author(s)                               187 non-null    object \n",
      " 2   Publisher                               187 non-null    object \n",
      " 3   Demographic                             187 non-null    object \n",
      " 4   No. of collected volumes                187 non-null    int64  \n",
      " 5   Serialized                              187 non-null    object \n",
      " 6   Approximate sales in million(s)         187 non-null    float64\n",
      " 7   Average sales per volume in million(s)  187 non-null    float64\n",
      "dtypes: float64(2), int64(1), object(5)\n",
      "memory usage: 11.8+ KB\n"
     ]
    }
   ],
   "source": [
    "df.info()"
   ]
  },
  {
   "cell_type": "code",
   "execution_count": 4,
   "metadata": {},
   "outputs": [
    {
     "data": {
      "text/html": [
       "<div>\n",
       "<style scoped>\n",
       "    .dataframe tbody tr th:only-of-type {\n",
       "        vertical-align: middle;\n",
       "    }\n",
       "\n",
       "    .dataframe tbody tr th {\n",
       "        vertical-align: top;\n",
       "    }\n",
       "\n",
       "    .dataframe thead th {\n",
       "        text-align: right;\n",
       "    }\n",
       "</style>\n",
       "<table border=\"1\" class=\"dataframe\">\n",
       "  <thead>\n",
       "    <tr style=\"text-align: right;\">\n",
       "      <th></th>\n",
       "      <th>Manga series</th>\n",
       "      <th>Author(s)</th>\n",
       "      <th>Publisher</th>\n",
       "      <th>Demographic</th>\n",
       "      <th>No. of collected volumes</th>\n",
       "      <th>Serialized</th>\n",
       "      <th>Approximate sales in million(s)</th>\n",
       "      <th>Average sales per volume in million(s)</th>\n",
       "    </tr>\n",
       "  </thead>\n",
       "  <tbody>\n",
       "    <tr>\n",
       "      <th>0</th>\n",
       "      <td>One Piece</td>\n",
       "      <td>Eiichiro Oda</td>\n",
       "      <td>Shueisha</td>\n",
       "      <td>Shōnen</td>\n",
       "      <td>104</td>\n",
       "      <td>1997–present</td>\n",
       "      <td>516.6</td>\n",
       "      <td>4.97</td>\n",
       "    </tr>\n",
       "    <tr>\n",
       "      <th>1</th>\n",
       "      <td>Golgo 13</td>\n",
       "      <td>Takao Saito, Saito Production</td>\n",
       "      <td>Shogakukan</td>\n",
       "      <td>Seinen</td>\n",
       "      <td>207</td>\n",
       "      <td>1968–present</td>\n",
       "      <td>300.0</td>\n",
       "      <td>1.45</td>\n",
       "    </tr>\n",
       "    <tr>\n",
       "      <th>2</th>\n",
       "      <td>Case Closed / Detective Conan</td>\n",
       "      <td>Gosho Aoyama</td>\n",
       "      <td>Shogakukan</td>\n",
       "      <td>Shōnen</td>\n",
       "      <td>102</td>\n",
       "      <td>1994–present</td>\n",
       "      <td>270.0</td>\n",
       "      <td>2.65</td>\n",
       "    </tr>\n",
       "    <tr>\n",
       "      <th>3</th>\n",
       "      <td>Dragon Ball</td>\n",
       "      <td>Akira Toriyama</td>\n",
       "      <td>Shueisha</td>\n",
       "      <td>Shōnen</td>\n",
       "      <td>42</td>\n",
       "      <td>1984–1995</td>\n",
       "      <td>260.0</td>\n",
       "      <td>6.19</td>\n",
       "    </tr>\n",
       "    <tr>\n",
       "      <th>4</th>\n",
       "      <td>Doraemon</td>\n",
       "      <td>Fujiko F. Fujio</td>\n",
       "      <td>Shogakukan</td>\n",
       "      <td>Children</td>\n",
       "      <td>45</td>\n",
       "      <td>1969–1996</td>\n",
       "      <td>250.0</td>\n",
       "      <td>4.71</td>\n",
       "    </tr>\n",
       "  </tbody>\n",
       "</table>\n",
       "</div>"
      ],
      "text/plain": [
       "                    Manga series                      Author(s)   Publisher   \n",
       "0                      One Piece                   Eiichiro Oda    Shueisha  \\\n",
       "1                       Golgo 13  Takao Saito, Saito Production  Shogakukan   \n",
       "2  Case Closed / Detective Conan                   Gosho Aoyama  Shogakukan   \n",
       "3                    Dragon Ball                 Akira Toriyama    Shueisha   \n",
       "4                       Doraemon                Fujiko F. Fujio  Shogakukan   \n",
       "\n",
       "  Demographic  No. of collected volumes    Serialized   \n",
       "0      Shōnen                       104  1997–present  \\\n",
       "1      Seinen                       207  1968–present   \n",
       "2      Shōnen                       102  1994–present   \n",
       "3      Shōnen                        42     1984–1995   \n",
       "4    Children                        45     1969–1996   \n",
       "\n",
       "   Approximate sales in million(s)  Average sales per volume in million(s)  \n",
       "0                            516.6                                    4.97  \n",
       "1                            300.0                                    1.45  \n",
       "2                            270.0                                    2.65  \n",
       "3                            260.0                                    6.19  \n",
       "4                            250.0                                    4.71  "
      ]
     },
     "execution_count": 4,
     "metadata": {},
     "output_type": "execute_result"
    }
   ],
   "source": [
    "df.head()"
   ]
  },
  {
   "cell_type": "code",
   "execution_count": 6,
   "metadata": {},
   "outputs": [
    {
     "data": {
      "text/plain": [
       "187"
      ]
     },
     "execution_count": 6,
     "metadata": {},
     "output_type": "execute_result"
    }
   ],
   "source": [
    "df['Manga series'].nunique()"
   ]
  },
  {
   "cell_type": "code",
   "execution_count": 7,
   "metadata": {},
   "outputs": [
    {
     "data": {
      "text/plain": [
       "21"
      ]
     },
     "execution_count": 7,
     "metadata": {},
     "output_type": "execute_result"
    }
   ],
   "source": [
    "df['Publisher'].nunique()"
   ]
  },
  {
   "cell_type": "code",
   "execution_count": 8,
   "metadata": {},
   "outputs": [],
   "source": [
    "# predict publisher based on the info.\n",
    "# change serialized. -> replace present with 2000\n",
    "# seperate those field to from and to. in the data transformation.\n"
   ]
  },
  {
   "cell_type": "code",
   "execution_count": 9,
   "metadata": {},
   "outputs": [],
   "source": [
    "# create pipeline for data transormations. Run as mlflow run.\n",
    "# pipe components\n",
    "#  > transform the publisher and create column `from` and `new`\n",
    "#  > Scaling numeric fields\n",
    "#  > oneHot encoding for categorical"
   ]
  },
  {
   "cell_type": "code",
   "execution_count": null,
   "metadata": {},
   "outputs": [],
   "source": []
  }
 ],
 "metadata": {
  "kernelspec": {
   "display_name": "Python 3",
   "language": "python",
   "name": "python3"
  },
  "language_info": {
   "codemirror_mode": {
    "name": "ipython",
    "version": 3
   },
   "file_extension": ".py",
   "mimetype": "text/x-python",
   "name": "python",
   "nbconvert_exporter": "python",
   "pygments_lexer": "ipython3",
   "version": "3.10.0"
  },
  "orig_nbformat": 4
 },
 "nbformat": 4,
 "nbformat_minor": 2
}
